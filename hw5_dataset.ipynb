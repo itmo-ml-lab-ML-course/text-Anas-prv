{
 "cells": [
  {
   "cell_type": "code",
   "execution_count": 1,
   "id": "initial_id",
   "metadata": {
    "collapsed": true,
    "ExecuteTime": {
     "end_time": "2024-03-05T14:30:52.781403600Z",
     "start_time": "2024-03-05T14:30:47.396959700Z"
    }
   },
   "outputs": [
    {
     "name": "stderr",
     "output_type": "stream",
     "text": [
      "\n",
      "[notice] A new release of pip available: 22.3.1 -> 24.0\n",
      "[notice] To update, run: python.exe -m pip install --upgrade pip\n"
     ]
    },
    {
     "name": "stdout",
     "output_type": "stream",
     "text": [
      "Requirement already satisfied: lxml in c:\\users\\xiaomi\\pycharmprojects\\ml\\venv\\lib\\site-packages (4.9.3)\n"
     ]
    }
   ],
   "source": [
    "!pip3 install lxml\n",
    "import requests\n",
    "import pandas as pd\n",
    "import lxml.etree as et"
   ]
  },
  {
   "cell_type": "code",
   "execution_count": 2,
   "outputs": [],
   "source": [
    "books = []\n",
    "author = []\n",
    "texts = []\n",
    "rating = []"
   ],
   "metadata": {
    "collapsed": false,
    "ExecuteTime": {
     "end_time": "2024-03-05T14:30:52.781403600Z",
     "start_time": "2024-03-05T14:30:52.767020800Z"
    }
   },
   "id": "47281744a5e584da"
  },
  {
   "cell_type": "code",
   "execution_count": 3,
   "outputs": [],
   "source": [
    "def init(num):\n",
    "    str_ind = str(num)\n",
    "    source = requests.get(\"https://www.chitai-gorod.ru/catalog/books/klassicheskaya-proza-110003?page=\" + str_ind)\n",
    "    initial_root = et.fromstring(source.content, parser=et.HTMLParser(remove_comments=True))\n",
    "    return initial_root"
   ],
   "metadata": {
    "collapsed": false,
    "ExecuteTime": {
     "end_time": "2024-03-05T14:30:52.807449900Z",
     "start_time": "2024-03-05T14:30:52.781403600Z"
    }
   },
   "id": "cd84481e34d5ed04"
  },
  {
   "cell_type": "code",
   "execution_count": 4,
   "outputs": [],
   "source": [
    "def parse_description(root_of_html):\n",
    "   messages = root_of_html.xpath(\"//div[@class='product-reviews__cards']\")\n",
    "   for m in messages:\n",
    "      message = m.xpath(\"//div[@class='product-review-card__comment']\")\n",
    "      for new_m in message:\n",
    "          texts.append(new_m.text)     \n",
    "          all_content = root_of_html.xpath(\"//div[@class='product-detail-title']\")\n",
    "          for a in all_content:\n",
    "              books.append(a.xpath(\"div/h1\")[0].text.replace(\"\\n\", \"\"))\n",
    "              if len(a.xpath(\"div/div\")) == 1:\n",
    "                  author.append(a.xpath(\"//div[@class='product-detail-title__authors']/a\")[0].text.replace(\"\\n\", \"\"))\n",
    "              else:\n",
    "                   author.append(None)"
   ],
   "metadata": {
    "collapsed": false,
    "ExecuteTime": {
     "end_time": "2024-03-05T14:30:52.841481400Z",
     "start_time": "2024-03-05T14:30:52.805026600Z"
    }
   },
   "id": "97a862ec48aed50"
  },
  {
   "cell_type": "code",
   "execution_count": 5,
   "outputs": [],
   "source": [
    "def stars(root_of_html):\n",
    "    rating_stars = root_of_html.xpath(\"//div[@class='product-review-card__rating']\")\n",
    "    for r in rating_stars:\n",
    "        num_of_stars = int(r.xpath(\"span[@class='box-none']\")[0].text.replace(\"\\n\", \"\"))\n",
    "        if num_of_stars == 3:\n",
    "            rating.append(\"Neutral\")\n",
    "        if num_of_stars < 3:\n",
    "            rating.append(\"Negative\")\n",
    "        if num_of_stars > 3:\n",
    "            rating.append(\"Positive\")"
   ],
   "metadata": {
    "collapsed": false,
    "ExecuteTime": {
     "end_time": "2024-03-05T14:30:52.843743900Z",
     "start_time": "2024-03-05T14:30:52.817430300Z"
    }
   },
   "id": "20e03a33900d99d"
  },
  {
   "cell_type": "code",
   "execution_count": 6,
   "outputs": [],
   "source": [
    "def parse_inside(root_of_html):\n",
    "    url = root_of_html.xpath(\"//article/a/@href\")\n",
    "    urls = []\n",
    "    ind = 0\n",
    "    for u in url:\n",
    "        if ind % 2 == 0:\n",
    "            urls.append(\"https://www.chitai-gorod.ru\" + u)\n",
    "        ind = ind + 1   \n",
    "    for j in range(0, len(urls)):\n",
    "        source2 = requests.get(urls[j])\n",
    "        root2 = et.fromstring(source2.content, parser=et.HTMLParser(remove_comments=True))\n",
    "        parse_description(root2)\n",
    "        stars(root2)"
   ],
   "metadata": {
    "collapsed": false,
    "ExecuteTime": {
     "end_time": "2024-03-05T14:30:52.868338900Z",
     "start_time": "2024-03-05T14:30:52.835008400Z"
    }
   },
   "id": "2b5d4f7142bc85d5"
  },
  {
   "cell_type": "code",
   "execution_count": 7,
   "outputs": [],
   "source": [
    "for index in range(1, 9):\n",
    "    root= init(1)\n",
    "    parse_inside(root)"
   ],
   "metadata": {
    "collapsed": false,
    "ExecuteTime": {
     "end_time": "2024-03-05T14:34:25.857304500Z",
     "start_time": "2024-03-05T14:30:52.856196400Z"
    }
   },
   "id": "510aeb0ea9b0214c"
  },
  {
   "cell_type": "code",
   "execution_count": 8,
   "outputs": [
    {
     "data": {
      "text/plain": "                       author_of_the_book  \\\n0                    Цао Сюэ-цинь           \n1                    Цао Сюэ-цинь           \n2                    Цао Сюэ-цинь           \n3                    Оскар Уайльд           \n4                    Оскар Уайльд           \n...                                   ...   \n1018            Федор Достоевский           \n1019            Федор Достоевский           \n1020              Михаил Булгаков           \n1021              Михаил Булгаков           \n1022              Михаил Булгаков           \n\n                                             book_title sentiment  \\\n0             Сон в красном тереме. Том 1. Том 2 (ко...  Positive   \n1             Сон в красном тереме. Том 1. Том 2 (ко...  Positive   \n2             Сон в красном тереме. Том 1. Том 2 (ко...  Positive   \n3                           Портрет Дориана Грея         Negative   \n4                           Портрет Дориана Грея         Positive   \n...                                                 ...       ...   \n1018                                  Белые ночи         Negative   \n1019                                  Белые ночи         Positive   \n1020                                      Морфий         Positive   \n1021                                      Морфий         Positive   \n1022                                      Морфий         Positive   \n\n                                                  texts  \n0     Наконец-то Азбука выпустила этот роман, так ка...  \n1     Издательство Иностранка порадовало переиздание...  \n2     Никогда раньше ничего не слышала о таком произ...  \n3     Наверное, самое переоцененное произведение сов...  \n4     Оскар Уайльд - отличный английский философ, вс...  \n...                                                 ...  \n1018  Совершенно не такой сюжет себе представляла пр...  \n1019  Очень приятные произведения, меланхоличные, за...  \n1020  Как-то в школе писала исследовательскую работу...  \n1021                                  Булгаков -гений!   \n1022  Самая интересная книга, которую вообще читала....  \n\n[1023 rows x 4 columns]",
      "text/html": "<div>\n<style scoped>\n    .dataframe tbody tr th:only-of-type {\n        vertical-align: middle;\n    }\n\n    .dataframe tbody tr th {\n        vertical-align: top;\n    }\n\n    .dataframe thead th {\n        text-align: right;\n    }\n</style>\n<table border=\"1\" class=\"dataframe\">\n  <thead>\n    <tr style=\"text-align: right;\">\n      <th></th>\n      <th>author_of_the_book</th>\n      <th>book_title</th>\n      <th>sentiment</th>\n      <th>texts</th>\n    </tr>\n  </thead>\n  <tbody>\n    <tr>\n      <th>0</th>\n      <td>Цао Сюэ-цинь</td>\n      <td>Сон в красном тереме. Том 1. Том 2 (ко...</td>\n      <td>Positive</td>\n      <td>Наконец-то Азбука выпустила этот роман, так ка...</td>\n    </tr>\n    <tr>\n      <th>1</th>\n      <td>Цао Сюэ-цинь</td>\n      <td>Сон в красном тереме. Том 1. Том 2 (ко...</td>\n      <td>Positive</td>\n      <td>Издательство Иностранка порадовало переиздание...</td>\n    </tr>\n    <tr>\n      <th>2</th>\n      <td>Цао Сюэ-цинь</td>\n      <td>Сон в красном тереме. Том 1. Том 2 (ко...</td>\n      <td>Positive</td>\n      <td>Никогда раньше ничего не слышала о таком произ...</td>\n    </tr>\n    <tr>\n      <th>3</th>\n      <td>Оскар Уайльд</td>\n      <td>Портрет Дориана Грея</td>\n      <td>Negative</td>\n      <td>Наверное, самое переоцененное произведение сов...</td>\n    </tr>\n    <tr>\n      <th>4</th>\n      <td>Оскар Уайльд</td>\n      <td>Портрет Дориана Грея</td>\n      <td>Positive</td>\n      <td>Оскар Уайльд - отличный английский философ, вс...</td>\n    </tr>\n    <tr>\n      <th>...</th>\n      <td>...</td>\n      <td>...</td>\n      <td>...</td>\n      <td>...</td>\n    </tr>\n    <tr>\n      <th>1018</th>\n      <td>Федор Достоевский</td>\n      <td>Белые ночи</td>\n      <td>Negative</td>\n      <td>Совершенно не такой сюжет себе представляла пр...</td>\n    </tr>\n    <tr>\n      <th>1019</th>\n      <td>Федор Достоевский</td>\n      <td>Белые ночи</td>\n      <td>Positive</td>\n      <td>Очень приятные произведения, меланхоличные, за...</td>\n    </tr>\n    <tr>\n      <th>1020</th>\n      <td>Михаил Булгаков</td>\n      <td>Морфий</td>\n      <td>Positive</td>\n      <td>Как-то в школе писала исследовательскую работу...</td>\n    </tr>\n    <tr>\n      <th>1021</th>\n      <td>Михаил Булгаков</td>\n      <td>Морфий</td>\n      <td>Positive</td>\n      <td>Булгаков -гений!</td>\n    </tr>\n    <tr>\n      <th>1022</th>\n      <td>Михаил Булгаков</td>\n      <td>Морфий</td>\n      <td>Positive</td>\n      <td>Самая интересная книга, которую вообще читала....</td>\n    </tr>\n  </tbody>\n</table>\n<p>1023 rows × 4 columns</p>\n</div>"
     },
     "execution_count": 8,
     "metadata": {},
     "output_type": "execute_result"
    }
   ],
   "source": [
    "dictionary = { 'book_title': books, 'author_of_the_book': author, 'texts': texts, 'sentiment': rating }\n",
    "dataset = pd.DataFrame.from_records(dictionary)\n",
    "dataset.to_csv('texts_dataset.csv', sep=' ')\n",
    "pd.read_csv('texts_dataset.csv', delimiter=' ')\n",
    "dataset"
   ],
   "metadata": {
    "collapsed": false,
    "ExecuteTime": {
     "end_time": "2024-03-05T14:34:26.032677300Z",
     "start_time": "2024-03-05T14:34:25.857304500Z"
    }
   },
   "id": "f6954cc5b3496429"
  }
 ],
 "metadata": {
  "kernelspec": {
   "display_name": "Python 3",
   "language": "python",
   "name": "python3"
  },
  "language_info": {
   "codemirror_mode": {
    "name": "ipython",
    "version": 2
   },
   "file_extension": ".py",
   "mimetype": "text/x-python",
   "name": "python",
   "nbconvert_exporter": "python",
   "pygments_lexer": "ipython2",
   "version": "2.7.6"
  }
 },
 "nbformat": 4,
 "nbformat_minor": 5
}
